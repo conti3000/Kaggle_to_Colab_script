{
  "nbformat": 4,
  "nbformat_minor": 0,
  "metadata": {
    "colab": {
      "name": "Recomender_example_pyspark.ipynb",
      "provenance": [],
      "private_outputs": true,
      "collapsed_sections": []
    },
    "kernelspec": {
      "name": "python3",
      "display_name": "Python 3"
    },
    "accelerator": "GPU"
  },
  "cells": [
    {
      "cell_type": "code",
      "metadata": {
        "id": "7VwdtR0dZ9xe"
      },
      "source": [
        "#Installing dependencies needed\n",
        "\n",
        "!apt-get install openjdk-8-jdk-headless -qq > /dev/null\n",
        "!wget -q https://www-us.apache.org/dist/spark/spark-2.4.4/spark-2.4.4-bin-hadoop2.7.tgz\n",
        "!tar xf spark-2.4.4-bin-hadoop2.7.tgz\n",
        "!pip install -q findspark"
      ],
      "execution_count": null,
      "outputs": []
    },
    {
      "cell_type": "markdown",
      "metadata": {
        "id": "EfWMaMzSRIpS"
      },
      "source": [
        "#INSTRUCTIONS\n",
        "\n",
        "\n",
        "\n",
        "\n",
        "\n",
        "*   Download the dataset and uncompresed\n",
        "\n",
        "*   Put the uncompresed file in that directory\n",
        " \n",
        "*   Create a \"bigdata\" folder in My drive from google\n",
        "\n",
        "Note: Give access to colab to mount that directory copying and pasting\n",
        "the access code generated\n",
        "\n",
        "\n",
        "\n"
      ]
    },
    {
      "cell_type": "code",
      "metadata": {
        "id": "2AWGRq4koHKF"
      },
      "source": [
        "ls"
      ],
      "execution_count": null,
      "outputs": []
    },
    {
      "cell_type": "code",
      "metadata": {
        "id": "aMnsBGEHzHsE"
      },
      "source": [
        "!rm -rf spark-2.4.4-bin-hadoop2.7.tgz"
      ],
      "execution_count": null,
      "outputs": []
    },
    {
      "cell_type": "code",
      "metadata": {
        "id": "Y3KDrx2Srk8b"
      },
      "source": [
        "#setting envirenment variables\n",
        "import os\n",
        "\n",
        "os.environ[\"JAVA_HOME\"] = \"/usr/lib/jvm/java-8-openjdk-amd64\"\n",
        "os.environ[\"SPARK_HOME\"] = \"/content/spark-2.4.4-bin-hadoop2.7\""
      ],
      "execution_count": null,
      "outputs": []
    },
    {
      "cell_type": "code",
      "metadata": {
        "id": "XTgSj_hUujAk"
      },
      "source": [
        "#importing libraries\n",
        "import findspark\n",
        "findspark.init()\n",
        "from pyspark.sql import SparkSession"
      ],
      "execution_count": null,
      "outputs": []
    },
    {
      "cell_type": "code",
      "metadata": {
        "id": "Ez9BChxE97eq"
      },
      "source": [
        "#start spark local session\n",
        "spark = SparkSession.builder.master(\"local[*]\").getOrCreate()"
      ],
      "execution_count": null,
      "outputs": []
    },
    {
      "cell_type": "code",
      "metadata": {
        "id": "l4UxxJXVHkP7"
      },
      "source": [
        "#mount personal drive from google\n",
        "from google.colab import drive\n",
        "drive.mount('/content/drive')"
      ],
      "execution_count": null,
      "outputs": []
    },
    {
      "cell_type": "code",
      "metadata": {
        "id": "V5YjkcgvQXhd"
      },
      "source": [
        "!ls \"/content/drive/My Drive/bigdata/hw4/ml-1m\""
      ],
      "execution_count": null,
      "outputs": []
    },
    {
      "cell_type": "code",
      "metadata": {
        "id": "P7idLEi6zo4L"
      },
      "source": [
        "# location of the file in one personal drive\n",
        "file_path=\"/content/drive/My Drive/bigdata/hw4/ml-1m\"\n",
        "file=\"/content/drive/My Drive/bigdata/hw4/ml-1m/ratings.dat\"\n"
      ],
      "execution_count": null,
      "outputs": []
    },
    {
      "cell_type": "code",
      "metadata": {
        "id": "6GyTI_oKTEAY"
      },
      "source": [
        "#loading dataframe\n",
        "df = spark.read.format(\"csv\").load(file)"
      ],
      "execution_count": null,
      "outputs": []
    },
    {
      "cell_type": "markdown",
      "metadata": {
        "id": "OAVQKIXARVX8"
      },
      "source": [
        "RATINGS FILE DESCRIPTION\n",
        "================================================================================\n",
        "\n",
        "All ratings are contained in the file \"ratings.dat\" and are in the\n",
        "following format:\n",
        "\n",
        "UserID::MovieID::Rating::Timestamp\n",
        "\n",
        "- UserIDs range between 1 and 6040 \n",
        "- MovieIDs range between 1 and 3952\n",
        "- Ratings are made on a 5-star scale (whole-star ratings only)\n",
        "- Timestamp is represented in seconds since the epoch as returned by time(2)\n",
        "- Each user has at least 20 ratings\n"
      ]
    },
    {
      "cell_type": "code",
      "metadata": {
        "id": "43qYdStDQtLb"
      },
      "source": [
        "#importing some libraries \n",
        "from pyspark.sql.types import *\n",
        "import pyspark.sql.functions as f\n",
        "import time\n",
        "from pyspark.ml.evaluation import RegressionEvaluator\n",
        "from pyspark.ml.recommendation import ALS\n",
        "from pyspark.sql import Row\n",
        "from pyspark.sql.functions import udf\n",
        "from pyspark.mllib.linalg import VectorUDT\n",
        "from pyspark.mllib.linalg import Vectors\n",
        "from pyspark.ml.linalg import DenseVector\n",
        "import numpy as np"
      ],
      "execution_count": null,
      "outputs": []
    },
    {
      "cell_type": "code",
      "metadata": {
        "id": "viczOEi0RBXN"
      },
      "source": [
        "####Rating document loaded show\n",
        "df_split = df.select(f.split(df[0],\"::\")).rdd.flatMap(lambda x: x).toDF(schema=[\"UserID\",\"MovieID\",\"Rating\",\"TimeStamp\"])\n",
        "df_split.show(2)"
      ],
      "execution_count": null,
      "outputs": []
    },
    {
      "cell_type": "markdown",
      "metadata": {
        "id": "U8kNRTKJum4Q"
      },
      "source": [
        "Output 1)\n"
      ]
    },
    {
      "cell_type": "code",
      "metadata": {
        "id": "Cplg9W5-uk_5"
      },
      "source": [
        "###########Output 1)\n",
        "now = time.time()\n",
        "df_split.groupBy(\"UserID\",\"MovieID\").agg(f.mean('Rating')).show(10)\n",
        "elapsed = (time.time() - now)\n",
        "print(\"exec time:\",elapsed,\"ms\")"
      ],
      "execution_count": null,
      "outputs": []
    },
    {
      "cell_type": "code",
      "metadata": {
        "id": "Knw3r9lhWZuy"
      },
      "source": [
        "#####Selecting relevant data###################\n",
        "df_split=df_split.select([\"UserID\",\"MovieID\",\"Rating\"])"
      ],
      "execution_count": null,
      "outputs": []
    },
    {
      "cell_type": "code",
      "metadata": {
        "id": "uZ9dZKo7xsqG"
      },
      "source": [
        "df_split.printSchema()"
      ],
      "execution_count": null,
      "outputs": []
    },
    {
      "cell_type": "code",
      "metadata": {
        "id": "f69QJvs6yaXO"
      },
      "source": [
        "#Casting to numeric type\n",
        "df_split=df_split.withColumn(\"UserID\", df_split[\"UserID\"].cast(IntegerType()))\n",
        "df_split=df_split.withColumn(\"MovieID\", df_split[\"MovieID\"].cast(IntegerType()))\n",
        "df_split=df_split.withColumn(\"Rating\", df_split[\"Rating\"].cast(IntegerType()))"
      ],
      "execution_count": null,
      "outputs": []
    },
    {
      "cell_type": "code",
      "metadata": {
        "id": "guZec9rT1Csm"
      },
      "source": [
        "#checking final Schema\n",
        "df_split.printSchema()"
      ],
      "execution_count": null,
      "outputs": []
    },
    {
      "cell_type": "code",
      "metadata": {
        "id": "g3qw3pRE1Fmc"
      },
      "source": [
        ""
      ],
      "execution_count": null,
      "outputs": []
    },
    {
      "cell_type": "markdown",
      "metadata": {
        "id": "8e0QkUpkv-2h"
      },
      "source": [
        "*Output* 2 )\n",
        "User user item cosine similarity"
      ]
    },
    {
      "cell_type": "code",
      "metadata": {
        "id": "XC2lF_BM3mtn"
      },
      "source": [
        "training_data, test_data = df_split.randomSplit([0.8, 0.2])"
      ],
      "execution_count": null,
      "outputs": []
    },
    {
      "cell_type": "code",
      "metadata": {
        "id": "MMKoI8mVv26V"
      },
      "source": [
        "#################### (UserId ,(movies, ratings))\n",
        "df2= training_data.groupBy(\"UserID\").agg(f.collect_list(\"MovieID\").alias(\"Movies\"),f.collect_list(\"Rating\").alias(\"Ratings\"))\n",
        "df2=df2.sort('UserID', ascending=True)"
      ],
      "execution_count": null,
      "outputs": []
    },
    {
      "cell_type": "code",
      "metadata": {
        "id": "mcdQiO-e0TU9"
      },
      "source": [
        "df2.show(4)"
      ],
      "execution_count": null,
      "outputs": []
    },
    {
      "cell_type": "code",
      "metadata": {
        "id": "LpzeRdJlv282"
      },
      "source": [
        "SIZE=3952\n",
        "def to_vector(x,y):\n",
        "  return Vectors.sparse(3952, x, y)\n",
        "to_vector_udf = udf(to_vector,VectorUDT())"
      ],
      "execution_count": null,
      "outputs": []
    },
    {
      "cell_type": "code",
      "metadata": {
        "id": "Sh3CyOKJv2_c"
      },
      "source": [
        "# Create (UserID, [movie1, movie2...],[rating1, rating2...] struct\n",
        "df3=df2.withColumn('SparceVector',to_vector_udf('Movies', 'Ratings'))\n",
        "df3.show(4)"
      ],
      "execution_count": null,
      "outputs": []
    },
    {
      "cell_type": "code",
      "metadata": {
        "id": "JkcBfDHCzoL5"
      },
      "source": [
        "df4= df3.select(\"UserID\",\"SparceVector\")\n",
        "df4.show(4)"
      ],
      "execution_count": null,
      "outputs": []
    },
    {
      "cell_type": "code",
      "metadata": {
        "id": "tpxdjP_tv3CU"
      },
      "source": [
        "###Casting SparseVector to dense vector\n",
        "def sparse_to_array(v):\n",
        "  v = DenseVector(v)\n",
        "  new_array = list([float(x) for x in v])\n",
        "  return new_array\n",
        "sparse_to_array_udf = udf(sparse_to_array, ArrayType(FloatType()))"
      ],
      "execution_count": null,
      "outputs": []
    },
    {
      "cell_type": "code",
      "metadata": {
        "id": "pPtF6nniv3LI"
      },
      "source": [
        "df5 = df4.withColumn('Features', sparse_to_array_udf('SparceVector'))"
      ],
      "execution_count": null,
      "outputs": []
    },
    {
      "cell_type": "code",
      "metadata": {
        "id": "qMH9GrLFv3Nc"
      },
      "source": [
        "df5.show(4)"
      ],
      "execution_count": null,
      "outputs": []
    },
    {
      "cell_type": "code",
      "metadata": {
        "id": "4UhUGHltv3P6"
      },
      "source": [
        "df6= df5.select(\"UserID\",\"Features\")"
      ],
      "execution_count": null,
      "outputs": []
    },
    {
      "cell_type": "code",
      "metadata": {
        "id": "ObrYsL34v3JM"
      },
      "source": [
        "cartesianRDD = df6.rdd.cartesian(df6.rdd)\n",
        "cartesian=cartesianRDD.toDF()"
      ],
      "execution_count": null,
      "outputs": []
    },
    {
      "cell_type": "code",
      "metadata": {
        "id": "EZ0fjE_fv3Gz"
      },
      "source": [
        "cartesian.show(4)"
      ],
      "execution_count": null,
      "outputs": []
    },
    {
      "cell_type": "code",
      "metadata": {
        "id": "GG711LWbv3E0"
      },
      "source": [
        "def dot(x,y):\n",
        "  x= np.asarray(x[1])\n",
        "  y= np.asarray(y[1])\n",
        "  dot= np.dot(x,y)\n",
        "\n",
        "  norm_x = np.sqrt(np.dot(x,x))\n",
        "  norm_y=  np.sqrt(np.dot(y,y))\n",
        "\n",
        "  sim= dot/ (norm_x * norm_y)\n",
        "  return float(sim)\n",
        "\n",
        "dot_udf = udf(dot, FloatType())"
      ],
      "execution_count": null,
      "outputs": []
    },
    {
      "cell_type": "code",
      "metadata": {
        "id": "Y_YZ5jGbe95Q"
      },
      "source": [
        "def makePair(x,y):\n",
        "  x= np.asarray(x[0])\n",
        "  y= np.asarray(y[0])\n",
        "  return Vectors.dense([x,y])\n",
        "makePair_udf=udf(makePair,VectorUDT())"
      ],
      "execution_count": null,
      "outputs": []
    },
    {
      "cell_type": "code",
      "metadata": {
        "id": "kt6gzlw06ZcC"
      },
      "source": [
        "similarities=cartesian.withColumn('Pairs',makePair_udf(cartesian['_1'], cartesian['_2']))\n",
        "similarities= similarities.withColumn(\"Sims\", dot_udf(cartesian['_1'], cartesian['_2'])  )"
      ],
      "execution_count": null,
      "outputs": []
    },
    {
      "cell_type": "code",
      "metadata": {
        "id": "U4hZ3a8c6nGF"
      },
      "source": [
        "similarities.show(4)"
      ],
      "execution_count": null,
      "outputs": []
    },
    {
      "cell_type": "code",
      "metadata": {
        "id": "YjS08_986s2T"
      },
      "source": [
        "sim= similarities.select(\"Pairs\", \"Sims\")"
      ],
      "execution_count": null,
      "outputs": []
    },
    {
      "cell_type": "code",
      "metadata": {
        "id": "QENd0qXf6tyI"
      },
      "source": [
        "#Ouput 2 ([user_i, user_j], similarity)\n",
        "now = time.time()\n",
        "sim=sim[sim[\"Sims\"]!=1.0]\n",
        "sim.show(10)\n",
        "elapsed = (time.time() - now)\n",
        "print(\"time for evaluating the model:\",elapsed,\"ms\")"
      ],
      "execution_count": null,
      "outputs": []
    },
    {
      "cell_type": "code",
      "metadata": {
        "id": "0eZI7UOXajRL"
      },
      "source": [
        "sim_final=sim.select(\"Sims\").distinct().sort('Sims', ascending=False)"
      ],
      "execution_count": null,
      "outputs": []
    },
    {
      "cell_type": "code",
      "metadata": {
        "id": "tiHDTniLaydy"
      },
      "source": [
        "sim_final.show(10)"
      ],
      "execution_count": null,
      "outputs": []
    },
    {
      "cell_type": "markdown",
      "metadata": {
        "id": "fl__yZuJ7mVC"
      },
      "source": [
        "Output 3 ) Item- item cosine similarity"
      ]
    },
    {
      "cell_type": "code",
      "metadata": {
        "id": "Y5_Yeebl7FzF"
      },
      "source": [
        "# Create (UserID, [movie1, movie2...],[rating1, rating2...] struct\n",
        "df_2= training_data.groupBy(\"MovieID\").agg(f.collect_list(\"UserID\").alias(\"Users\"),f.collect_list(\"Rating\").alias(\"Ratings\"))\n",
        "df_2=df_2.sort('MovieID', ascending=True)\n"
      ],
      "execution_count": null,
      "outputs": []
    },
    {
      "cell_type": "code",
      "metadata": {
        "id": "LDEcagVEAftr"
      },
      "source": [
        "def to_vect(x,y):\n",
        "  return Vectors.sparse(6040, x, y)\n",
        "\n",
        "to_vect_udf = udf(to_vect, VectorUDT())\n",
        "\n"
      ],
      "execution_count": null,
      "outputs": []
    },
    {
      "cell_type": "code",
      "metadata": {
        "id": "hqyi5ClpLPk_"
      },
      "source": [
        "df_3=df_2.withColumn('SparceVector',to_vect_udf('Users','Ratings'))"
      ],
      "execution_count": null,
      "outputs": []
    },
    {
      "cell_type": "code",
      "metadata": {
        "id": "MXk3fcBFXedt"
      },
      "source": [
        "df_3.show(4)"
      ],
      "execution_count": null,
      "outputs": []
    },
    {
      "cell_type": "code",
      "metadata": {
        "id": "mXC_b4wH7F-p"
      },
      "source": [
        "df_4= df_3.select(\"MovieID\",\"SparceVector\")\n"
      ],
      "execution_count": null,
      "outputs": []
    },
    {
      "cell_type": "code",
      "metadata": {
        "id": "xvvQ9JgT7GBG"
      },
      "source": [
        "df_5 = df_4.withColumn('Features', sparse_to_array_udf('SparceVector'))\n"
      ],
      "execution_count": null,
      "outputs": []
    },
    {
      "cell_type": "code",
      "metadata": {
        "id": "kqPWUhkd7F8y"
      },
      "source": [
        "df_6= df_5.select(\"MovieID\",\"Features\")"
      ],
      "execution_count": null,
      "outputs": []
    },
    {
      "cell_type": "code",
      "metadata": {
        "id": "Gj4RK8Z3LhKX"
      },
      "source": [
        "df_6.show(4)"
      ],
      "execution_count": null,
      "outputs": []
    },
    {
      "cell_type": "code",
      "metadata": {
        "id": "84nTxpfv7F4o"
      },
      "source": [
        "cartesianRDD = df_6.rdd.cartesian(df_6.rdd)\n",
        "cartesian=cartesianRDD.toDF()"
      ],
      "execution_count": null,
      "outputs": []
    },
    {
      "cell_type": "code",
      "metadata": {
        "id": "nw7JNqbTCRxc"
      },
      "source": [
        "similarities=cartesian.withColumn('Pairs',makePair_udf(cartesian['_1'], cartesian['_2']))\n",
        "similarities= similarities.withColumn(\"Sims\", dot_udf(cartesian['_1'], cartesian['_2'])  )"
      ],
      "execution_count": null,
      "outputs": []
    },
    {
      "cell_type": "code",
      "metadata": {
        "id": "AUG0ib0cCZUh"
      },
      "source": [
        "sim= similarities.select(\"Pairs\", \"Sims\")"
      ],
      "execution_count": null,
      "outputs": []
    },
    {
      "cell_type": "code",
      "metadata": {
        "id": "8hVdeXRPCcFz"
      },
      "source": [
        "sim=sim[sim[\"Sims\"]!=1.0]\n",
        "sim.show()"
      ],
      "execution_count": null,
      "outputs": []
    },
    {
      "cell_type": "code",
      "metadata": {
        "id": "Apl0Qk5bCflr"
      },
      "source": [
        "sim_final=sim.select(\"Sims\").distinct().sort('Sims', ascending=False)"
      ],
      "execution_count": null,
      "outputs": []
    },
    {
      "cell_type": "markdown",
      "metadata": {
        "id": "TnOxh5BnC78R"
      },
      "source": [
        "Output 4 "
      ]
    },
    {
      "cell_type": "code",
      "metadata": {
        "id": "3Oq4vKzme_I9"
      },
      "source": [
        "\n",
        "# Build the recommendation model using ALS on the training data\n",
        "\n",
        "als = ALS(maxIter=5, regParam=0.01, userCol=\"UserID\", itemCol=\"MovieID\", ratingCol=\"Rating\",\n",
        "          coldStartStrategy=\"drop\")\n"
      ],
      "execution_count": null,
      "outputs": []
    },
    {
      "cell_type": "code",
      "metadata": {
        "id": "fobivQ-yxgWw"
      },
      "source": [
        "\n",
        "now = time.time()\n",
        "model = als.fit(training_data)\n",
        "# Evaluate the model by computing the RMSE on the test data\n",
        "predictions = model.transform(test_data)\n",
        "evaluator = RegressionEvaluator(metricName=\"rmse\", labelCol=\"Rating\",\n",
        "                                predictionCol=\"prediction\")\n",
        "rmse = evaluator.evaluate(predictions)\n",
        "elapsed = (time.time() - now)\n",
        "print(\"time for evaluating the model:\",elapsed,\"ms\")\n",
        "print(\"Root-mean-square error = \" + str(rmse))\n"
      ],
      "execution_count": null,
      "outputs": []
    }
  ]
}