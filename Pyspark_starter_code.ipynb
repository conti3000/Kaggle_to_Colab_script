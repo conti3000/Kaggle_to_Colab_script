{
  "nbformat": 4,
  "nbformat_minor": 0,
  "metadata": {
    "colab": {
      "name": "Pyspark-starter-code.ipynb",
      "provenance": [],
      "collapsed_sections": []
    },
    "kernelspec": {
      "name": "python3",
      "display_name": "Python 3"
    },
    "accelerator": "GPU"
  },
  "cells": [
    {
      "cell_type": "code",
      "metadata": {
        "id": "7VwdtR0dZ9xe"
      },
      "source": [
        "#Installing dependencies needed\n",
        "\n",
        "!apt-get install openjdk-8-jdk-headless -qq > /dev/null\n",
        "!wget -q https://www-us.apache.org/dist/spark/spark-2.4.4/spark-2.4.4-bin-hadoop2.7.tgz\n",
        "!tar xf spark-2.4.4-bin-hadoop2.7.tgz\n",
        "!pip install -q findspark"
      ],
      "execution_count": null,
      "outputs": []
    },
    {
      "cell_type": "markdown",
      "metadata": {
        "id": "eRvIdKsVSllr"
      },
      "source": [
        "#INSTRUCTIONS\n",
        "\n",
        "\n",
        "\n",
        "\n",
        "\n",
        "*   Download the dataset and uncompresed\n",
        "\n",
        "*   Put the uncompresed file in that directory\n",
        " \n",
        "*   Create a \"bigdata\" folder in My drive from google\n",
        "\n",
        "Note: Give access to colab to mount that directory copying and pasting\n",
        "the access code generated\n"
      ]
    },
    {
      "cell_type": "code",
      "metadata": {
        "id": "2AWGRq4koHKF",
        "outputId": "929ecafa-ac5d-4f92-a0b5-b2ae11d40a5b",
        "colab": {
          "base_uri": "https://localhost:8080/",
          "height": 70
        }
      },
      "source": [
        "ls"
      ],
      "execution_count": null,
      "outputs": [
        {
          "output_type": "stream",
          "text": [
            "\u001b[0m\u001b[01;34mdrive\u001b[0m/                                       \u001b[01;34mspark-2.4.4-bin-hadoop2.7\u001b[0m/\n",
            "\u001b[01;34mnormalized_household_power_consumption.csv\u001b[0m/  spark-2.4.4-bin-hadoop2.7.tgz\n",
            "\u001b[01;34msample_data\u001b[0m/\n"
          ],
          "name": "stdout"
        }
      ]
    },
    {
      "cell_type": "code",
      "metadata": {
        "id": "aMnsBGEHzHsE"
      },
      "source": [
        "!rm -rf spark-2.4.4-bin-hadoop2.7.tgz"
      ],
      "execution_count": null,
      "outputs": []
    },
    {
      "cell_type": "code",
      "metadata": {
        "id": "aodqhnnYzRWy",
        "outputId": "17c04f7a-f425-47ca-a32c-25e4c5e7f401",
        "colab": {
          "base_uri": "https://localhost:8080/",
          "height": 52
        }
      },
      "source": [
        "!ls"
      ],
      "execution_count": null,
      "outputs": [
        {
          "output_type": "stream",
          "text": [
            "drive\t\t\t\t\t    sample_data\n",
            "normalized_household_power_consumption.csv  spark-2.4.4-bin-hadoop2.7\n"
          ],
          "name": "stdout"
        }
      ]
    },
    {
      "cell_type": "code",
      "metadata": {
        "id": "Y3KDrx2Srk8b"
      },
      "source": [
        "#setting envirenment variables\n",
        "import os\n",
        "\n",
        "os.environ[\"JAVA_HOME\"] = \"/usr/lib/jvm/java-8-openjdk-amd64\"\n",
        "os.environ[\"SPARK_HOME\"] = \"/content/spark-2.4.4-bin-hadoop2.7\""
      ],
      "execution_count": null,
      "outputs": []
    },
    {
      "cell_type": "code",
      "metadata": {
        "id": "kO3_Fg5Rpq_v"
      },
      "source": [
        "#!printenv"
      ],
      "execution_count": null,
      "outputs": []
    },
    {
      "cell_type": "code",
      "metadata": {
        "id": "XTgSj_hUujAk"
      },
      "source": [
        "#importing libraries\n",
        "import findspark\n",
        "findspark.init()\n",
        "from pyspark.sql import SparkSession"
      ],
      "execution_count": null,
      "outputs": []
    },
    {
      "cell_type": "code",
      "metadata": {
        "id": "Ez9BChxE97eq"
      },
      "source": [
        "#start spark local session\n",
        "spark = SparkSession.builder.master(\"local[*]\").getOrCreate()"
      ],
      "execution_count": null,
      "outputs": []
    },
    {
      "cell_type": "code",
      "metadata": {
        "id": "l4UxxJXVHkP7",
        "outputId": "43244b56-fa2c-4e79-f235-885aa4e78758",
        "colab": {
          "base_uri": "https://localhost:8080/",
          "height": 34
        }
      },
      "source": [
        "#mount personal drive from google\n",
        "from google.colab import drive\n",
        "drive.mount('/content/drive')"
      ],
      "execution_count": null,
      "outputs": [
        {
          "output_type": "stream",
          "text": [
            "Drive already mounted at /content/drive; to attempt to forcibly remount, call drive.mount(\"/content/drive\", force_remount=True).\n"
          ],
          "name": "stdout"
        }
      ]
    },
    {
      "cell_type": "code",
      "metadata": {
        "id": "V5YjkcgvQXhd",
        "outputId": "2b77834c-d42e-495b-cacb-a597978f7678",
        "colab": {
          "base_uri": "https://localhost:8080/",
          "height": 34
        }
      },
      "source": [
        "!ls \"/content/drive/My Drive/bigdata\""
      ],
      "execution_count": null,
      "outputs": [
        {
          "output_type": "stream",
          "text": [
            "household_power_consumption.txt  normalized_household_power_consumption.csv\n"
          ],
          "name": "stdout"
        }
      ]
    },
    {
      "cell_type": "code",
      "metadata": {
        "id": "P7idLEi6zo4L"
      },
      "source": [
        "# location of the file in one personal drive\n",
        "file=\"/content/drive/My Drive/bigdata/household_power_consumption.txt\""
      ],
      "execution_count": null,
      "outputs": []
    },
    {
      "cell_type": "code",
      "metadata": {
        "id": "6GyTI_oKTEAY"
      },
      "source": [
        "#loading dataframe\n",
        "df = spark.read.load(file, format=\"csv\", sep=\";\", inferSchema=\"true\", header=\"true\")"
      ],
      "execution_count": null,
      "outputs": []
    },
    {
      "cell_type": "code",
      "metadata": {
        "id": "k6XLDNIDQdOU",
        "outputId": "3563f169-9911-4f7a-8f80-9829a981c342",
        "colab": {
          "base_uri": "https://localhost:8080/",
          "height": 210
        }
      },
      "source": [
        "#Showing data loaded\n",
        "df.show(5)"
      ],
      "execution_count": null,
      "outputs": [
        {
          "output_type": "stream",
          "text": [
            "+----------+--------+-------------------+---------------------+-------+----------------+--------------+--------------+--------------+\n",
            "|      Date|    Time|Global_active_power|Global_reactive_power|Voltage|Global_intensity|Sub_metering_1|Sub_metering_2|Sub_metering_3|\n",
            "+----------+--------+-------------------+---------------------+-------+----------------+--------------+--------------+--------------+\n",
            "|16/12/2006|17:24:00|              4.216|                0.418|234.840|          18.400|         0.000|         1.000|          17.0|\n",
            "|16/12/2006|17:25:00|              5.360|                0.436|233.630|          23.000|         0.000|         1.000|          16.0|\n",
            "|16/12/2006|17:26:00|              5.374|                0.498|233.290|          23.000|         0.000|         2.000|          17.0|\n",
            "|16/12/2006|17:27:00|              5.388|                0.502|233.740|          23.000|         0.000|         1.000|          17.0|\n",
            "|16/12/2006|17:28:00|              3.666|                0.528|235.680|          15.800|         0.000|         1.000|          17.0|\n",
            "+----------+--------+-------------------+---------------------+-------+----------------+--------------+--------------+--------------+\n",
            "only showing top 5 rows\n",
            "\n"
          ],
          "name": "stdout"
        }
      ]
    },
    {
      "cell_type": "code",
      "metadata": {
        "id": "84CMQ02wS_TT",
        "outputId": "254f05ab-65d8-4f75-f2f1-3809242de173",
        "colab": {
          "base_uri": "https://localhost:8080/",
          "height": 210
        }
      },
      "source": [
        "#Printing the dataset schema\n",
        "df.printSchema()"
      ],
      "execution_count": null,
      "outputs": [
        {
          "output_type": "stream",
          "text": [
            "root\n",
            " |-- Date: string (nullable = true)\n",
            " |-- Time: string (nullable = true)\n",
            " |-- Global_active_power: string (nullable = true)\n",
            " |-- Global_reactive_power: string (nullable = true)\n",
            " |-- Voltage: string (nullable = true)\n",
            " |-- Global_intensity: string (nullable = true)\n",
            " |-- Sub_metering_1: string (nullable = true)\n",
            " |-- Sub_metering_2: string (nullable = true)\n",
            " |-- Sub_metering_3: double (nullable = true)\n",
            "\n"
          ],
          "name": "stdout"
        }
      ]
    },
    {
      "cell_type": "code",
      "metadata": {
        "id": "YV3MJMOBoROm",
        "outputId": "47aafc7c-ea83-46f0-edb6-19b93fe298d8",
        "colab": {
          "base_uri": "https://localhost:8080/",
          "height": 34
        }
      },
      "source": [
        ""
      ],
      "execution_count": null,
      "outputs": [
        {
          "output_type": "execute_result",
          "data": {
            "text/plain": [
              "2075259"
            ]
          },
          "metadata": {
            "tags": []
          },
          "execution_count": 15
        }
      ]
    },
    {
      "cell_type": "markdown",
      "metadata": {
        "id": "Ks6BgwLzQBQV"
      },
      "source": [
        "Casting type\n"
      ]
    },
    {
      "cell_type": "code",
      "metadata": {
        "id": "e90cSqUcY9d1"
      },
      "source": [
        "#Selecting working columns and casting from string to float\n",
        "df2 = df.select(df[\"Global_active_power\"].cast(\"float\"),df[\"Global_reactive_power\"].cast(\"float\")\n",
        "                ,df[\"Voltage\"].cast(\"float\"), df[\"Global_intensity\"].cast(\"float\"))"
      ],
      "execution_count": null,
      "outputs": []
    },
    {
      "cell_type": "code",
      "metadata": {
        "id": "DS3QwprMfPAC",
        "outputId": "c4a24fb7-eaec-417e-f6df-2357e9a1a8a9",
        "colab": {
          "base_uri": "https://localhost:8080/",
          "height": 122
        }
      },
      "source": [
        "#Printing new schema\n",
        "df2.printSchema()"
      ],
      "execution_count": null,
      "outputs": [
        {
          "output_type": "stream",
          "text": [
            "root\n",
            " |-- Global_active_power: float (nullable = true)\n",
            " |-- Global_reactive_power: float (nullable = true)\n",
            " |-- Voltage: float (nullable = true)\n",
            " |-- Global_intensity: float (nullable = true)\n",
            "\n"
          ],
          "name": "stdout"
        }
      ]
    },
    {
      "cell_type": "code",
      "metadata": {
        "id": "l4IS-XA-SWBO"
      },
      "source": [
        "#Importing utilities from pyspark\n",
        "from pyspark.sql.functions import *"
      ],
      "execution_count": null,
      "outputs": []
    },
    {
      "cell_type": "code",
      "metadata": {
        "id": "nhnYY_CdSxIc",
        "outputId": "b7fd028b-ebfb-484a-8249-eba1db2a6e25",
        "colab": {
          "base_uri": "https://localhost:8080/",
          "height": 87
        }
      },
      "source": [
        "#Printing how many null values are found after casting\n",
        "columns=[\"Global_active_power\",\"Global_reactive_power\",\"Voltage\",\"Global_intensity\"]\n",
        "for c in columns:\n",
        "  miss=df2.where(col(c).isNull()).count()\n",
        "  print(\"Nulls in\", c,\":\",miss)"
      ],
      "execution_count": null,
      "outputs": [
        {
          "output_type": "stream",
          "text": [
            "Nulls in Global_active_power : 25979\n",
            "Nulls in Global_reactive_power : 25979\n",
            "Nulls in Voltage : 25979\n",
            "Nulls in Global_intensity : 25979\n"
          ],
          "name": "stdout"
        }
      ]
    },
    {
      "cell_type": "markdown",
      "metadata": {
        "id": "h6lSNxK9Vbsd"
      },
      "source": [
        "Dealing with missing values"
      ]
    },
    {
      "cell_type": "code",
      "metadata": {
        "id": "vkX-BMJaUEWs",
        "outputId": "17fef127-09cb-4278-8ee9-f0e3a945da47",
        "colab": {
          "base_uri": "https://localhost:8080/",
          "height": 721
        }
      },
      "source": [
        "#Filling missing values with the mean\n",
        "\n",
        "for c in columns:\n",
        "  r=df2.select(mean(c))\n",
        "  avg=r.collect()[0][0]\n",
        "  df2.fillna(avg, subset=[c])\n",
        "  df2.describe([c]).show()\n",
        "\n"
      ],
      "execution_count": null,
      "outputs": [
        {
          "output_type": "stream",
          "text": [
            "+-------+-------------------+\n",
            "|summary|Global_active_power|\n",
            "+-------+-------------------+\n",
            "|  count|            2049280|\n",
            "|   mean| 1.0916150366540094|\n",
            "| stddev| 1.0572941611180025|\n",
            "|    min|              0.076|\n",
            "|    max|             11.122|\n",
            "+-------+-------------------+\n",
            "\n",
            "+-------+---------------------+\n",
            "|summary|Global_reactive_power|\n",
            "+-------+---------------------+\n",
            "|  count|              2049280|\n",
            "|   mean|   0.1237144765251571|\n",
            "| stddev|  0.11272197958641315|\n",
            "|    min|                  0.0|\n",
            "|    max|                 1.39|\n",
            "+-------+---------------------+\n",
            "\n",
            "+-------+------------------+\n",
            "|summary|           Voltage|\n",
            "+-------+------------------+\n",
            "|  count|           2049280|\n",
            "|   mean|240.83985796672414|\n",
            "| stddev|3.2399866612063435|\n",
            "|    min|             223.2|\n",
            "|    max|            254.15|\n",
            "+-------+------------------+\n",
            "\n",
            "+-------+------------------+\n",
            "|summary|  Global_intensity|\n",
            "+-------+------------------+\n",
            "|  count|           2049280|\n",
            "|   mean| 4.627759313004169|\n",
            "| stddev|4.4443962589812385|\n",
            "|    min|               0.2|\n",
            "|    max|              48.4|\n",
            "+-------+------------------+\n",
            "\n"
          ],
          "name": "stdout"
        }
      ]
    },
    {
      "cell_type": "code",
      "metadata": {
        "id": "TZC2KHfgnofR",
        "outputId": "e37ba0fc-bb4c-4878-ff0d-38a07421ed9b",
        "colab": {
          "base_uri": "https://localhost:8080/",
          "height": 527
        }
      },
      "source": [
        "# Output (1)\n",
        "import time\n",
        "start = time.time()\n",
        "\n",
        "for c in columns:\n",
        "  print(\"Min, max, count values for:\",c)\n",
        "  result = df2.select([min(c), max(c), count(c)])\n",
        "  result.show()\n",
        " \n",
        " \n",
        " \n",
        "end = time.time()\n",
        "print(\"Execution time: \",(end - start), \"seconds\")"
      ],
      "execution_count": null,
      "outputs": [
        {
          "output_type": "stream",
          "text": [
            "Min, max, count values for: Global_active_power\n",
            "+------------------------+------------------------+--------------------------+\n",
            "|min(Global_active_power)|max(Global_active_power)|count(Global_active_power)|\n",
            "+------------------------+------------------------+--------------------------+\n",
            "|                   0.076|                  11.122|                   2049280|\n",
            "+------------------------+------------------------+--------------------------+\n",
            "\n",
            "Min, max, count values for: Global_reactive_power\n",
            "+--------------------------+--------------------------+----------------------------+\n",
            "|min(Global_reactive_power)|max(Global_reactive_power)|count(Global_reactive_power)|\n",
            "+--------------------------+--------------------------+----------------------------+\n",
            "|                       0.0|                      1.39|                     2049280|\n",
            "+--------------------------+--------------------------+----------------------------+\n",
            "\n",
            "Min, max, count values for: Voltage\n",
            "+------------+------------+--------------+\n",
            "|min(Voltage)|max(Voltage)|count(Voltage)|\n",
            "+------------+------------+--------------+\n",
            "|       223.2|      254.15|       2049280|\n",
            "+------------+------------+--------------+\n",
            "\n",
            "Min, max, count values for: Global_intensity\n",
            "+---------------------+---------------------+-----------------------+\n",
            "|min(Global_intensity)|max(Global_intensity)|count(Global_intensity)|\n",
            "+---------------------+---------------------+-----------------------+\n",
            "|                  0.2|                 48.4|                2049280|\n",
            "+---------------------+---------------------+-----------------------+\n",
            "\n",
            "Execution time:  14.333874940872192 seconds\n"
          ],
          "name": "stdout"
        }
      ]
    },
    {
      "cell_type": "code",
      "metadata": {
        "id": "s-6PEZM3o-3y",
        "outputId": "e0ce963b-0149-4f52-db96-5068005e368b",
        "colab": {
          "base_uri": "https://localhost:8080/",
          "height": 527
        }
      },
      "source": [
        "#Output 2\n",
        "for c in columns:\n",
        "  print(\"Mean, standard deviation for:\",c)\n",
        "  result = df2.select([mean(c), stddev(c)])\n",
        "  result.show()\n",
        " \n",
        " \n",
        " \n",
        "end = time.time()\n",
        "print(\"Execution time: \",(end - start), \"seconds\")"
      ],
      "execution_count": null,
      "outputs": [
        {
          "output_type": "stream",
          "text": [
            "Mean, standard deviation for: Global_active_power\n",
            "+------------------------+--------------------------------+\n",
            "|avg(Global_active_power)|stddev_samp(Global_active_power)|\n",
            "+------------------------+--------------------------------+\n",
            "|      1.0916150366540094|              1.0572941611180025|\n",
            "+------------------------+--------------------------------+\n",
            "\n",
            "Mean, standard deviation for: Global_reactive_power\n",
            "+--------------------------+----------------------------------+\n",
            "|avg(Global_reactive_power)|stddev_samp(Global_reactive_power)|\n",
            "+--------------------------+----------------------------------+\n",
            "|        0.1237144765251571|               0.11272197958641315|\n",
            "+--------------------------+----------------------------------+\n",
            "\n",
            "Mean, standard deviation for: Voltage\n",
            "+------------------+--------------------+\n",
            "|      avg(Voltage)|stddev_samp(Voltage)|\n",
            "+------------------+--------------------+\n",
            "|240.83985796672414|  3.2399866612063435|\n",
            "+------------------+--------------------+\n",
            "\n",
            "Mean, standard deviation for: Global_intensity\n",
            "+---------------------+-----------------------------+\n",
            "|avg(Global_intensity)|stddev_samp(Global_intensity)|\n",
            "+---------------------+-----------------------------+\n",
            "|    4.627759313004169|           4.4443962589812385|\n",
            "+---------------------+-----------------------------+\n",
            "\n",
            "Execution time:  28.25244903564453 seconds\n"
          ],
          "name": "stdout"
        }
      ]
    },
    {
      "cell_type": "code",
      "metadata": {
        "id": "641ZTHbuu2XH"
      },
      "source": [
        "#Min max scaling\n",
        "from pyspark.ml.feature import MinMaxScaler\n",
        "from pyspark.ml.feature import VectorAssembler\n",
        "\n",
        "\n"
      ],
      "execution_count": null,
      "outputs": []
    },
    {
      "cell_type": "code",
      "metadata": {
        "id": "sOJUO_nIgRyB",
        "outputId": "2c363c72-c786-43f6-8bcb-dcf457d1e153",
        "colab": {
          "base_uri": "https://localhost:8080/",
          "height": 210
        }
      },
      "source": [
        "#Assembling a vector to use in the minmaxscaler \n",
        "assembler = VectorAssembler(\n",
        "    inputCols=columns,\n",
        "    outputCol=\"features\")\n",
        "\n",
        "output = assembler.setHandleInvalid(\"keep\").transform(df2)\n",
        "output.show(5)\n"
      ],
      "execution_count": null,
      "outputs": [
        {
          "output_type": "stream",
          "text": [
            "+-------------------+---------------------+-------+----------------+--------------------+\n",
            "|Global_active_power|Global_reactive_power|Voltage|Global_intensity|            features|\n",
            "+-------------------+---------------------+-------+----------------+--------------------+\n",
            "|              4.216|                0.418| 234.84|            18.4|[4.21600008010864...|\n",
            "|               5.36|                0.436| 233.63|            23.0|[5.36000013351440...|\n",
            "|              5.374|                0.498| 233.29|            23.0|[5.37400007247924...|\n",
            "|              5.388|                0.502| 233.74|            23.0|[5.38800001144409...|\n",
            "|              3.666|                0.528| 235.68|            15.8|[3.66599988937377...|\n",
            "+-------------------+---------------------+-------+----------------+--------------------+\n",
            "only showing top 5 rows\n",
            "\n"
          ],
          "name": "stdout"
        }
      ]
    },
    {
      "cell_type": "code",
      "metadata": {
        "id": "pXZCiVYvn5Qn",
        "outputId": "7c914d82-00ab-4879-bb54-9a37abba54b2",
        "colab": {
          "base_uri": "https://localhost:8080/",
          "height": 34
        }
      },
      "source": [
        "output.select(\"features\").count()"
      ],
      "execution_count": null,
      "outputs": [
        {
          "output_type": "execute_result",
          "data": {
            "text/plain": [
              "2075259"
            ]
          },
          "metadata": {
            "tags": []
          },
          "execution_count": 25
        }
      ]
    },
    {
      "cell_type": "code",
      "metadata": {
        "id": "TEj_V8IpgTrQ",
        "outputId": "a7135ff8-7990-4549-9a44-04bc0159d619",
        "colab": {
          "base_uri": "https://localhost:8080/",
          "height": 210
        }
      },
      "source": [
        "#MinMax scaling \n",
        "scaler = MinMaxScaler(inputCol=\"features\", outputCol=\"scaledFeatures\")\n",
        "scalerModel = scaler.fit(output.select(\"features\"))\n",
        "scaledData = scalerModel.transform(output)\n",
        "scaledData.show(5)"
      ],
      "execution_count": null,
      "outputs": [
        {
          "output_type": "stream",
          "text": [
            "+-------------------+---------------------+-------+----------------+--------------------+--------------------+\n",
            "|Global_active_power|Global_reactive_power|Voltage|Global_intensity|            features|      scaledFeatures|\n",
            "+-------------------+---------------------+-------+----------------+--------------------+--------------------+\n",
            "|              4.216|                0.418| 234.84|            18.4|[4.21600008010864...|[0.37479632254738...|\n",
            "|               5.36|                0.436| 233.63|            23.0|[5.36000013351440...|[0.47836323183743...|\n",
            "|              5.374|                0.498| 233.29|            23.0|[5.37400007247924...|[0.47963065346431...|\n",
            "|              5.388|                0.502| 233.74|            23.0|[5.38800001144409...|[0.48089807509119...|\n",
            "|              3.666|                0.528| 235.68|            15.8|[3.66599988937377...|[0.32500452429198...|\n",
            "+-------------------+---------------------+-------+----------------+--------------------+--------------------+\n",
            "only showing top 5 rows\n",
            "\n"
          ],
          "name": "stdout"
        }
      ]
    },
    {
      "cell_type": "code",
      "metadata": {
        "id": "IlvjR27Ps1M1",
        "outputId": "b5e48fe7-0d00-4879-c069-953a0112d501",
        "colab": {
          "base_uri": "https://localhost:8080/",
          "height": 210
        }
      },
      "source": [
        "scaledData.select(\"features\", \"scaledFeatures\").show(5)"
      ],
      "execution_count": null,
      "outputs": [
        {
          "output_type": "stream",
          "text": [
            "+--------------------+--------------------+\n",
            "|            features|      scaledFeatures|\n",
            "+--------------------+--------------------+\n",
            "|[4.21600008010864...|[0.37479632254738...|\n",
            "|[5.36000013351440...|[0.47836323183743...|\n",
            "|[5.37400007247924...|[0.47963065346431...|\n",
            "|[5.38800001144409...|[0.48089807509119...|\n",
            "|[3.66599988937377...|[0.32500452429198...|\n",
            "+--------------------+--------------------+\n",
            "only showing top 5 rows\n",
            "\n"
          ],
          "name": "stdout"
        }
      ]
    },
    {
      "cell_type": "code",
      "metadata": {
        "id": "Sz88SzthuFBb"
      },
      "source": [
        "#Disassembling the vector\n",
        "def extract(row):\n",
        "    return tuple(row.scaledFeatures.toArray().tolist())"
      ],
      "execution_count": null,
      "outputs": []
    },
    {
      "cell_type": "code",
      "metadata": {
        "id": "sqcm3vjzIYpF",
        "outputId": "3f8798c5-b6af-47db-d601-d27ef3bbbf6c",
        "colab": {
          "base_uri": "https://localhost:8080/",
          "height": 210
        }
      },
      "source": [
        "#Renaming the new dataframe\n",
        "normalized_columns=[\"normalized_global_active_power\",\"normalized_global_reactive_power\",\"normalized_voltage\",\"normalized_global_intensity\"]\n",
        "normal_out=scaledData.rdd.map(extract).toDF(normalized_columns)\n",
        "normal_out.show(5)"
      ],
      "execution_count": null,
      "outputs": [
        {
          "output_type": "stream",
          "text": [
            "+------------------------------+--------------------------------+-------------------+---------------------------+\n",
            "|normalized_global_active_power|normalized_global_reactive_power| normalized_voltage|normalized_global_intensity|\n",
            "+------------------------------+--------------------------------+-------------------+---------------------------+\n",
            "|            0.3747963225473887|              0.3007194366460509|0.37609048586059823|        0.37759334108949466|\n",
            "|           0.47836323183743595|              0.3136690604292478|0.33699544306942775|        0.47302903063577767|\n",
            "|           0.47963065346431577|             0.35827338206620574|0.32600960687537933|        0.47302903063577767|\n",
            "|           0.48089807509119564|              0.3611510643288495| 0.3405495826881009|        0.47302903063577767|\n",
            "|           0.32500452429198895|              0.3798561169588938| 0.4032309194863383|         0.3236514459515824|\n",
            "+------------------------------+--------------------------------+-------------------+---------------------------+\n",
            "only showing top 5 rows\n",
            "\n"
          ],
          "name": "stdout"
        }
      ]
    },
    {
      "cell_type": "code",
      "metadata": {
        "id": "RsvmMsa_N72s"
      },
      "source": [
        "#Ouput(3)\n",
        "#saving a csv file\n",
        "\n",
        "normal_out.repartition(1).write.csv(\"/content/drive/My Drive/bigdata/normalized_household_power_consumption.csv\", sep=';', header=True)\n",
        "\n"
      ],
      "execution_count": null,
      "outputs": []
    }
  ]
}