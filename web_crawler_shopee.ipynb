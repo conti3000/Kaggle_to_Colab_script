{
  "nbformat": 4,
  "nbformat_minor": 0,
  "metadata": {
    "kernelspec": {
      "display_name": "Python 3",
      "language": "python",
      "name": "python3"
    },
    "language_info": {
      "codemirror_mode": {
        "name": "ipython",
        "version": 3
      },
      "file_extension": ".py",
      "mimetype": "text/x-python",
      "name": "python",
      "nbconvert_exporter": "python",
      "pygments_lexer": "ipython3",
      "version": "3.6.9"
    },
    "colab": {
      "name": "web_crawler_shopee.ipynb",
      "provenance": []
    }
  },
  "cells": [
    {
      "cell_type": "markdown",
      "metadata": {
        "id": "pTMtxAcjM--M"
      },
      "source": [
        "Web Scrapping\n",
        "Packages needed:\n",
        "\n",
        "*  -Selenium: can be installed threw pip or conda \n",
        "*  -Pandas\n",
        "\n",
        "**Installation can be done from pip or conda\n",
        "pip install selenium\n",
        "pip install pandas\n",
        "\n",
        "\n",
        "\n"
      ]
    },
    {
      "cell_type": "code",
      "metadata": {
        "id": "J9FiYbAXM--N"
      },
      "source": [
        "#Importing libraries\n",
        "import re\n",
        "from selenium import webdriver\n",
        "import pandas as pd\n",
        "import time"
      ],
      "execution_count": null,
      "outputs": []
    },
    {
      "cell_type": "code",
      "metadata": {
        "id": "yT7rw65bM--R"
      },
      "source": [
        "#Path to web driver\n",
        "#For Chrome Download the corresponding webdriver for the version used at:\n",
        "# https://chromedriver.chromium.org/downloads\n",
        "#and move the executable file at the $PATH dir\n",
        "PATH=\"C:\\\\Program Files (x86)\\\\chromedriver.exe\""
      ],
      "execution_count": null,
      "outputs": []
    },
    {
      "cell_type": "code",
      "metadata": {
        "id": "enObKENKM--U"
      },
      "source": [
        "#loading the webdriver\n",
        "driver= webdriver.Chrome(PATH)\n",
        "driver.get(\"https://shopee.tw/%E7%8E%A9%E5%85%B7-cat.75.2185?brands=5005&locations=-1&page=0&ratingFilter=4&sortBy=pop\")"
      ],
      "execution_count": null,
      "outputs": []
    },
    {
      "cell_type": "code",
      "metadata": {
        "id": "7KGVt3hSM--X"
      },
      "source": [
        "# Scroll few times to load all items\n",
        "driver.execute_script(\"window.scrollBy(0,document.body.scrollHeight)\") "
      ],
      "execution_count": null,
      "outputs": []
    },
    {
      "cell_type": "code",
      "metadata": {
        "id": "3yLSP-jyM--a"
      },
      "source": [
        "#Get the names of the items\n",
        "names=driver.find_elements_by_class_name('O6wiAW')\n",
        "names_list = []\n",
        "for name in names:\n",
        "    names_list.append(name.text)"
      ],
      "execution_count": null,
      "outputs": []
    },
    {
      "cell_type": "code",
      "metadata": {
        "id": "Lh00K9QcM--d"
      },
      "source": [
        "#Get the range of prices\n",
        "price_ranges=driver.find_elements_by_class_name('_2lBkmX')\n",
        "prices_list = []\n",
        "for price in price_ranges:\n",
        "    prices_list.append(price.text)\n"
      ],
      "execution_count": null,
      "outputs": []
    },
    {
      "cell_type": "code",
      "metadata": {
        "id": "WvLsYkl_M--f",
        "outputId": "09e33ef5-c508-41f1-8ab0-9f0158a6c869"
      },
      "source": [
        "#Checking one element\n",
        "print(\"Name:\",names_list[0])\n",
        "print(\"Price range:\",prices_list[0])"
      ],
      "execution_count": null,
      "outputs": [
        {
          "output_type": "stream",
          "text": [
            "Name: 🌼2月新品🇰🇷正韓 韓國 Pokemon 寶可夢 抓怪立體球💗 寶貝球 神奇寶貝 皮卡丘 寶可夢玩具 口袋怪獸\n",
            "多件優惠\n",
            "Price range: $299\n"
          ],
          "name": "stdout"
        }
      ]
    },
    {
      "cell_type": "code",
      "metadata": {
        "id": "3wvnXAY1M--j"
      },
      "source": [
        "#Creating a pandas dataframe\n",
        "df = pd.DataFrame(list(zip(names_list, prices_list)), columns =['Title', 'Price_Range']) "
      ],
      "execution_count": null,
      "outputs": []
    },
    {
      "cell_type": "code",
      "metadata": {
        "id": "kHEqCp5GM--m",
        "outputId": "46e48295-860e-4067-c562-995fe4811e62"
      },
      "source": [
        "df.head()"
      ],
      "execution_count": null,
      "outputs": [
        {
          "output_type": "execute_result",
          "data": {
            "text/html": [
              "<div>\n",
              "<style scoped>\n",
              "    .dataframe tbody tr th:only-of-type {\n",
              "        vertical-align: middle;\n",
              "    }\n",
              "\n",
              "    .dataframe tbody tr th {\n",
              "        vertical-align: top;\n",
              "    }\n",
              "\n",
              "    .dataframe thead th {\n",
              "        text-align: right;\n",
              "    }\n",
              "</style>\n",
              "<table border=\"1\" class=\"dataframe\">\n",
              "  <thead>\n",
              "    <tr style=\"text-align: right;\">\n",
              "      <th></th>\n",
              "      <th>Title</th>\n",
              "      <th>Price_Range</th>\n",
              "    </tr>\n",
              "  </thead>\n",
              "  <tbody>\n",
              "    <tr>\n",
              "      <td>0</td>\n",
              "      <td>🌼2月新品🇰🇷正韓 韓國 Pokemon 寶可夢 抓怪立體球💗 寶貝球 神奇寶貝 皮卡丘 寶...</td>\n",
              "      <td>$299</td>\n",
              "    </tr>\n",
              "    <tr>\n",
              "      <td>1</td>\n",
              "      <td>7-11限定寶可夢脆皮軟心莓果球單售12款磁鐵</td>\n",
              "      <td>$49 - $99</td>\n",
              "    </tr>\n",
              "    <tr>\n",
              "      <td>2</td>\n",
              "      <td>寶可夢 水系 礦泉水 日本 中心限定 傑尼龜 小鉅鱷 水躍魚 波加曼 水水獺 呱呱泡蛙 球球...</td>\n",
              "      <td>$840</td>\n",
              "    </tr>\n",
              "    <tr>\n",
              "      <td>3</td>\n",
              "      <td>💥特價 精靈寶可夢 寶可夢抓寶大冒險遊戲機 PC14284 麗嬰國際正版公司貨</td>\n",
              "      <td>$1,680</td>\n",
              "    </tr>\n",
              "    <tr>\n",
              "      <td>4</td>\n",
              "      <td>【盒玩系列】台灣現貨🎈第七彈 寶可夢 精靈球 超夢 寶可夢飼育球 大蔥鴨 皮卡丘 小小象 雷...</td>\n",
              "      <td>$99 - $199</td>\n",
              "    </tr>\n",
              "  </tbody>\n",
              "</table>\n",
              "</div>"
            ],
            "text/plain": [
              "                                               Title Price_Range\n",
              "0  🌼2月新品🇰🇷正韓 韓國 Pokemon 寶可夢 抓怪立體球💗 寶貝球 神奇寶貝 皮卡丘 寶...        $299\n",
              "1                            7-11限定寶可夢脆皮軟心莓果球單售12款磁鐵   $49 - $99\n",
              "2  寶可夢 水系 礦泉水 日本 中心限定 傑尼龜 小鉅鱷 水躍魚 波加曼 水水獺 呱呱泡蛙 球球...        $840\n",
              "3            💥特價 精靈寶可夢 寶可夢抓寶大冒險遊戲機 PC14284 麗嬰國際正版公司貨      $1,680\n",
              "4  【盒玩系列】台灣現貨🎈第七彈 寶可夢 精靈球 超夢 寶可夢飼育球 大蔥鴨 皮卡丘 小小象 雷...  $99 - $199"
            ]
          },
          "metadata": {
            "tags": []
          },
          "execution_count": 17
        }
      ]
    },
    {
      "cell_type": "code",
      "metadata": {
        "id": "XJBryP2pM--o",
        "outputId": "aa7bef13-25b9-4dd6-f6b6-899600f18878"
      },
      "source": [
        "#Deleting special characters on the price and the comma decimal separator\n",
        "#Also when there's a offer delete old price\n",
        "df['Price_Range']= df['Price_Range'].str.replace(r'^(.*)(?=\\n)','')\n",
        "df['Price_Range']=df['Price_Range'].str.replace(r'[^0-9-]','')\n",
        "\n",
        "#Using the CJK Unicode characters + standardar english characters + numbers\n",
        "#Numbers and English names might contain info about the product itself\n",
        "df['Title']= df['Title'].str.replace(r'[^\\u4e00-\\u9fff\\0-9-A-Z-a-z]','')\n",
        "df.head(8)"
      ],
      "execution_count": null,
      "outputs": [
        {
          "output_type": "execute_result",
          "data": {
            "text/html": [
              "<div>\n",
              "<style scoped>\n",
              "    .dataframe tbody tr th:only-of-type {\n",
              "        vertical-align: middle;\n",
              "    }\n",
              "\n",
              "    .dataframe tbody tr th {\n",
              "        vertical-align: top;\n",
              "    }\n",
              "\n",
              "    .dataframe thead th {\n",
              "        text-align: right;\n",
              "    }\n",
              "</style>\n",
              "<table border=\"1\" class=\"dataframe\">\n",
              "  <thead>\n",
              "    <tr style=\"text-align: right;\">\n",
              "      <th></th>\n",
              "      <th>Title</th>\n",
              "      <th>Price_Range</th>\n",
              "    </tr>\n",
              "  </thead>\n",
              "  <tbody>\n",
              "    <tr>\n",
              "      <td>0</td>\n",
              "      <td>2月新品正韓 韓國 Pokemon 寶可夢 抓怪立體球 寶貝球 神奇寶貝 皮卡丘 寶可夢玩具...</td>\n",
              "      <td>299</td>\n",
              "    </tr>\n",
              "    <tr>\n",
              "      <td>1</td>\n",
              "      <td>7-11限定寶可夢脆皮軟心莓果球單售12款磁鐵</td>\n",
              "      <td>49-99</td>\n",
              "    </tr>\n",
              "    <tr>\n",
              "      <td>2</td>\n",
              "      <td>寶可夢 水系 礦泉水 日本 中心限定 傑尼龜 小鉅鱷 水躍魚 波加曼 水水獺 呱呱泡蛙 球球...</td>\n",
              "      <td>840</td>\n",
              "    </tr>\n",
              "    <tr>\n",
              "      <td>3</td>\n",
              "      <td>特價 精靈寶可夢 寶可夢抓寶大冒險遊戲機 PC14284 麗嬰國際正版公司貨</td>\n",
              "      <td>1680</td>\n",
              "    </tr>\n",
              "    <tr>\n",
              "      <td>4</td>\n",
              "      <td>盒玩系列台灣現貨第七彈 寶可夢 精靈球 超夢 寶可夢飼育球 大蔥鴨 皮卡丘 小小象 雷公 轉...</td>\n",
              "      <td>99-199</td>\n",
              "    </tr>\n",
              "    <tr>\n",
              "      <td>5</td>\n",
              "      <td>Tretta(Ga-Ole)珍藏彈&amp;01&amp;02彈金超夢y金胡帕金烈空座金酋雷姆黑烈空座蓋歐卡...</td>\n",
              "      <td>100-500</td>\n",
              "    </tr>\n",
              "    <tr>\n",
              "      <td>6</td>\n",
              "      <td>寶可夢中心扭蛋 伊布 皮卡丘 百變怪</td>\n",
              "      <td>714-1122</td>\n",
              "    </tr>\n",
              "    <tr>\n",
              "      <td>7</td>\n",
              "      <td>寶可夢Pokemon52 百變怪假扮皮卡丘/L-11371</td>\n",
              "      <td>100</td>\n",
              "    </tr>\n",
              "  </tbody>\n",
              "</table>\n",
              "</div>"
            ],
            "text/plain": [
              "                                               Title Price_Range\n",
              "0  2月新品正韓 韓國 Pokemon 寶可夢 抓怪立體球 寶貝球 神奇寶貝 皮卡丘 寶可夢玩具...         299\n",
              "1                            7-11限定寶可夢脆皮軟心莓果球單售12款磁鐵       49-99\n",
              "2  寶可夢 水系 礦泉水 日本 中心限定 傑尼龜 小鉅鱷 水躍魚 波加曼 水水獺 呱呱泡蛙 球球...         840\n",
              "3             特價 精靈寶可夢 寶可夢抓寶大冒險遊戲機 PC14284 麗嬰國際正版公司貨        1680\n",
              "4  盒玩系列台灣現貨第七彈 寶可夢 精靈球 超夢 寶可夢飼育球 大蔥鴨 皮卡丘 小小象 雷公 轉...      99-199\n",
              "5  Tretta(Ga-Ole)珍藏彈&01&02彈金超夢y金胡帕金烈空座金酋雷姆黑烈空座蓋歐卡...     100-500\n",
              "6                                 寶可夢中心扭蛋 伊布 皮卡丘 百變怪    714-1122\n",
              "7                      寶可夢Pokemon52 百變怪假扮皮卡丘/L-11371         100"
            ]
          },
          "metadata": {
            "tags": []
          },
          "execution_count": 18
        }
      ]
    },
    {
      "cell_type": "code",
      "metadata": {
        "id": "hqDV-6VlM--r"
      },
      "source": [
        "#Saving the pre-processed into a csv file\n",
        "filenamePath='C:\\\\Users\\\\Jorge\\\\Desktop\\\\products_shopee.csv'\n",
        "df.to_csv(filenamePath)"
      ],
      "execution_count": null,
      "outputs": []
    },
    {
      "cell_type": "markdown",
      "metadata": {
        "id": "KBO5uz2vM--u"
      },
      "source": [
        "Notes: executing scrolling down the page in selenium might fail if the webdriver didn't finish to load the peage yet."
      ]
    }
  ]
}